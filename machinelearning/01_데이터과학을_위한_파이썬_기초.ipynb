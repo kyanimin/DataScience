{
  "nbformat": 4,
  "nbformat_minor": 0,
  "metadata": {
    "colab": {
      "name": "01_데이터과학을 위한 파이썬 기초.ipynb",
      "provenance": [],
      "include_colab_link": true
    },
    "kernelspec": {
      "name": "python3",
      "display_name": "Python 3"
    },
    "language_info": {
      "name": "python"
    }
  },
  "cells": [
    {
      "cell_type": "markdown",
      "metadata": {
        "id": "view-in-github",
        "colab_type": "text"
      },
      "source": [
        "<a href=\"https://colab.research.google.com/github/kyanimin/DataScience/blob/main/01_%EB%8D%B0%EC%9D%B4%ED%84%B0%EA%B3%BC%ED%95%99%EC%9D%84_%EC%9C%84%ED%95%9C_%ED%8C%8C%EC%9D%B4%EC%8D%AC_%EA%B8%B0%EC%B4%88.ipynb\" target=\"_parent\"><img src=\"https://colab.research.google.com/assets/colab-badge.svg\" alt=\"Open In Colab\"/></a>"
      ]
    },
    {
      "cell_type": "markdown",
      "metadata": {
        "id": "40M8k2a5v6I0"
      },
      "source": [
        "strip() 공백 제거 함수"
      ]
    },
    {
      "cell_type": "code",
      "metadata": {
        "id": "5LDqJY5Cvk4q",
        "colab": {
          "base_uri": "https://localhost:8080/",
          "height": 35
        },
        "outputId": "436ab0c7-4d14-46c4-d8b9-67c3118869aa"
      },
      "source": [
        "st = \"Hello, world! \\t\\t\\n\" # 모든줄 바꿈과 탭 (\\n, \\r, \\t)\n",
        "st"
      ],
      "execution_count": null,
      "outputs": [
        {
          "output_type": "execute_result",
          "data": {
            "application/vnd.google.colaboratory.intrinsic+json": {
              "type": "string"
            },
            "text/plain": [
              "'Hello, world! \\t\\t\\n'"
            ]
          },
          "metadata": {
            "tags": []
          },
          "execution_count": 4
        }
      ]
    },
    {
      "cell_type": "code",
      "metadata": {
        "colab": {
          "base_uri": "https://localhost:8080/",
          "height": 35
        },
        "id": "fp23nJ_HwX1T",
        "outputId": "a16e64da-0605-4b2d-cf0b-ac206decf697"
      },
      "source": [
        "st.strip() # 모든 공백 제거"
      ],
      "execution_count": null,
      "outputs": [
        {
          "output_type": "execute_result",
          "data": {
            "application/vnd.google.colaboratory.intrinsic+json": {
              "type": "string"
            },
            "text/plain": [
              "'Hello, world!'"
            ]
          },
          "metadata": {
            "tags": []
          },
          "execution_count": 5
        }
      ]
    },
    {
      "cell_type": "code",
      "metadata": {
        "colab": {
          "base_uri": "https://localhost:8080/",
          "height": 35
        },
        "id": "CXRmaYEVw0-v",
        "outputId": "24efcacb-4c67-49b6-bde4-75215d60e04d"
      },
      "source": [
        "st.lstrip() # 왼쪽 공백 제거"
      ],
      "execution_count": null,
      "outputs": [
        {
          "output_type": "execute_result",
          "data": {
            "application/vnd.google.colaboratory.intrinsic+json": {
              "type": "string"
            },
            "text/plain": [
              "'Hello, world! \\t\\t\\n'"
            ]
          },
          "metadata": {
            "tags": []
          },
          "execution_count": 7
        }
      ]
    },
    {
      "cell_type": "code",
      "metadata": {
        "colab": {
          "base_uri": "https://localhost:8080/",
          "height": 35
        },
        "id": "iKnD4l5gw4XB",
        "outputId": "5a3b9ddb-5577-4a1c-e979-d89b1e89ea65"
      },
      "source": [
        "st.rstrip() #오른쪽 공백 제거"
      ],
      "execution_count": null,
      "outputs": [
        {
          "output_type": "execute_result",
          "data": {
            "application/vnd.google.colaboratory.intrinsic+json": {
              "type": "string"
            },
            "text/plain": [
              "'Hello, world!'"
            ]
          },
          "metadata": {
            "tags": []
          },
          "execution_count": 9
        }
      ]
    },
    {
      "cell_type": "markdown",
      "metadata": {
        "id": "pU9QeVTjxLl3"
      },
      "source": [
        "split(delim=\"\") 문자열 자르기 함수"
      ]
    },
    {
      "cell_type": "code",
      "metadata": {
        "colab": {
          "base_uri": "https://localhost:8080/"
        },
        "id": "ppIFasgaxDCg",
        "outputId": "cd4983f3-d2ee-4f75-d03f-e4f1737b60d3"
      },
      "source": [
        "\"Hello, world!\".split() ## delim 구분자 -> default 공백"
      ],
      "execution_count": null,
      "outputs": [
        {
          "output_type": "execute_result",
          "data": {
            "text/plain": [
              "['Hello,', 'world!']"
            ]
          },
          "metadata": {
            "tags": []
          },
          "execution_count": 10
        }
      ]
    },
    {
      "cell_type": "code",
      "metadata": {
        "id": "9ywv7zjoxeUJ"
      },
      "source": [
        "\"Hello, world!\".split(\", \") #구분자 -> ,(콤마)"
      ],
      "execution_count": null,
      "outputs": []
    },
    {
      "cell_type": "code",
      "metadata": {
        "colab": {
          "base_uri": "https://localhost:8080/"
        },
        "id": "RJRc8He6yKbd",
        "outputId": "11011d77-331b-485b-95b3-662e56d15e8f"
      },
      "source": [
        "\"www.networksciencelab.com\".split(\".\")"
      ],
      "execution_count": null,
      "outputs": [
        {
          "output_type": "execute_result",
          "data": {
            "text/plain": [
              "['www', 'networksciencelab', 'com']"
            ]
          },
          "metadata": {
            "tags": []
          },
          "execution_count": 12
        }
      ]
    },
    {
      "cell_type": "markdown",
      "metadata": {
        "id": "mi3xEIXEyw8c"
      },
      "source": [
        "Join(ls) 문자열을 연결시키는 함수"
      ]
    },
    {
      "cell_type": "code",
      "metadata": {
        "colab": {
          "base_uri": "https://localhost:8080/",
          "height": 35
        },
        "id": "O_az_Wfay0WR",
        "outputId": "af7a2f49-b956-4eb7-d864-4832e523100f"
      },
      "source": [
        "\",\".join([\"alpha\",\"bravo\",\"charlie\",\"delta\"]) #문자열 리스트 ㅣS 하나의 문자열로 붙임 -> 문자열 조각을 재조합"
      ],
      "execution_count": null,
      "outputs": [
        {
          "output_type": "execute_result",
          "data": {
            "application/vnd.google.colaboratory.intrinsic+json": {
              "type": "string"
            },
            "text/plain": [
              "'alpha,bravo,charlie,delta'"
            ]
          },
          "metadata": {
            "tags": []
          },
          "execution_count": 13
        }
      ]
    },
    {
      "cell_type": "code",
      "metadata": {
        "colab": {
          "base_uri": "https://localhost:8080/",
          "height": 35
        },
        "id": "WZwzOPWPzYEr",
        "outputId": "6e97ed2f-ba9a-48fa-c00e-7d2393e5db17"
      },
      "source": [
        "\"-\".join(\"1.617.305.1985\".split(\".\")) "
      ],
      "execution_count": null,
      "outputs": [
        {
          "output_type": "execute_result",
          "data": {
            "application/vnd.google.colaboratory.intrinsic+json": {
              "type": "string"
            },
            "text/plain": [
              "'1-617-305-1985'"
            ]
          },
          "metadata": {
            "tags": []
          },
          "execution_count": 15
        }
      ]
    },
    {
      "cell_type": "code",
      "metadata": {
        "colab": {
          "base_uri": "https://localhost:8080/",
          "height": 35
        },
        "id": "rCaJpO7ezqxq",
        "outputId": "9e040fbf-6e71-4f42-874d-b83ac5d98949"
      },
      "source": [
        "# 1) 구분자로 자른다\n",
        "ls = \"1.617.305.1985\".split(\".\")\n",
        "\n",
        "# 2) ls를 - 구분자로 붙인다.\n",
        "\"-\".join(ls)"
      ],
      "execution_count": null,
      "outputs": [
        {
          "output_type": "execute_result",
          "data": {
            "application/vnd.google.colaboratory.intrinsic+json": {
              "type": "string"
            },
            "text/plain": [
              "'1-617-305-1985'"
            ]
          },
          "metadata": {
            "tags": []
          },
          "execution_count": 16
        }
      ]
    },
    {
      "cell_type": "code",
      "metadata": {
        "colab": {
          "base_uri": "https://localhost:8080/",
          "height": 35
        },
        "id": "_QuWiObd0M7-",
        "outputId": "59d976b9-3daf-4dc8-c1e4-f385fcf7feed"
      },
      "source": [
        "\" \".join(\"This string\\n\\r has many\\t\\tspaces\".split())"
      ],
      "execution_count": null,
      "outputs": [
        {
          "output_type": "execute_result",
          "data": {
            "application/vnd.google.colaboratory.intrinsic+json": {
              "type": "string"
            },
            "text/plain": [
              "'This string has many spaces'"
            ]
          },
          "metadata": {
            "tags": []
          },
          "execution_count": 21
        }
      ]
    },
    {
      "cell_type": "code",
      "metadata": {
        "colab": {
          "base_uri": "https://localhost:8080/",
          "height": 35
        },
        "id": "aM20Ut2f0qbL",
        "outputId": "cdd39304-8c5c-45d8-fef7-f1da7f0dbbdc"
      },
      "source": [
        "# 1) \\n\\r 공백 데이터 기준으로 자르기\n",
        "ls = \"This string\\n\\r has many\\t\\tspaces\".split()\n",
        "\n",
        "#2) 공백 한칸으로 재조합\n",
        "\" \".join(ls)"
      ],
      "execution_count": null,
      "outputs": [
        {
          "output_type": "execute_result",
          "data": {
            "application/vnd.google.colaboratory.intrinsic+json": {
              "type": "string"
            },
            "text/plain": [
              "'This string has many spaces'"
            ]
          },
          "metadata": {
            "tags": []
          },
          "execution_count": 23
        }
      ]
    },
    {
      "cell_type": "markdown",
      "metadata": {
        "id": "n55VHggd1pBk"
      },
      "source": [
        "find(needle) 해당 문자열에 부문 문자열 needle 처음 등장하는 인덱스 반환(위치) 없으면 -1 반환하는 함수(대소문자 구분)"
      ]
    },
    {
      "cell_type": "code",
      "metadata": {
        "colab": {
          "base_uri": "https://localhost:8080/"
        },
        "id": "WsIOpIos0_s1",
        "outputId": "f7709f05-6433-4e00-d2ad-90e954a43e9d"
      },
      "source": [
        "\"www.networksciencelab.com\".find(\".com\")"
      ],
      "execution_count": null,
      "outputs": [
        {
          "output_type": "execute_result",
          "data": {
            "text/plain": [
              "21"
            ]
          },
          "metadata": {
            "tags": []
          },
          "execution_count": 24
        }
      ]
    },
    {
      "cell_type": "code",
      "metadata": {
        "colab": {
          "base_uri": "https://localhost:8080/"
        },
        "id": "EKT2jpu_2Jyz",
        "outputId": "5bc48d63-0542-4402-fafc-37578b351211"
      },
      "source": [
        "\"www.networksciencelab.Com\".find(\".com\")"
      ],
      "execution_count": null,
      "outputs": [
        {
          "output_type": "execute_result",
          "data": {
            "text/plain": [
              "-1"
            ]
          },
          "metadata": {
            "tags": []
          },
          "execution_count": 25
        }
      ]
    },
    {
      "cell_type": "markdown",
      "metadata": {
        "id": "F0FwKozF2hgh"
      },
      "source": [
        "count(needle) 해당 문자열에서 등장하는 횟수를 반환하는 함수(대소문자 구분)"
      ]
    },
    {
      "cell_type": "code",
      "metadata": {
        "colab": {
          "base_uri": "https://localhost:8080/"
        },
        "id": "8e8gr1KS2WOQ",
        "outputId": "fc66afd3-9a04-447e-f1dd-5f62aae133d3"
      },
      "source": [
        "\"www.networksciencelab.com\".count(\".\")"
      ],
      "execution_count": null,
      "outputs": [
        {
          "output_type": "execute_result",
          "data": {
            "text/plain": [
              "2"
            ]
          },
          "metadata": {
            "tags": []
          },
          "execution_count": 26
        }
      ]
    },
    {
      "cell_type": "code",
      "metadata": {
        "colab": {
          "base_uri": "https://localhost:8080/"
        },
        "id": "_WONd20g2zn2",
        "outputId": "83eb7943-c813-47ba-b9ce-aa9403bb4a7b"
      },
      "source": [
        "\"www.networksciencelab.com\".count(\"w\")"
      ],
      "execution_count": null,
      "outputs": [
        {
          "output_type": "execute_result",
          "data": {
            "text/plain": [
              "4"
            ]
          },
          "metadata": {
            "tags": []
          },
          "execution_count": 27
        }
      ]
    },
    {
      "cell_type": "code",
      "metadata": {
        "colab": {
          "base_uri": "https://localhost:8080/"
        },
        "id": "uqES6X8P2301",
        "outputId": "bcee1a90-92cb-4459-9e70-cfaa1079b927"
      },
      "source": [
        "\"www.networksciencelab.com\".count(\"C\")"
      ],
      "execution_count": null,
      "outputs": [
        {
          "output_type": "execute_result",
          "data": {
            "text/plain": [
              "0"
            ]
          },
          "metadata": {
            "tags": []
          },
          "execution_count": 28
        }
      ]
    },
    {
      "cell_type": "markdown",
      "metadata": {
        "id": "l-l_2IBZ3Vmu"
      },
      "source": [
        "프레디케이트 함수 -> 문자열s가 특정 클래스에 속하는지 True,False로 변환"
      ]
    },
    {
      "cell_type": "code",
      "metadata": {
        "colab": {
          "base_uri": "https://localhost:8080/"
        },
        "id": "IoWyl2r13HyG",
        "outputId": "51b6ecc7-6b39-4703-aa6f-829c11e9e141"
      },
      "source": [
        "\"www.networksciencelab.com\".islower() #모든 알파벳 문자가 소문자인지 체크"
      ],
      "execution_count": null,
      "outputs": [
        {
          "output_type": "execute_result",
          "data": {
            "text/plain": [
              "True"
            ]
          },
          "metadata": {
            "tags": []
          },
          "execution_count": 29
        }
      ]
    },
    {
      "cell_type": "code",
      "metadata": {
        "colab": {
          "base_uri": "https://localhost:8080/"
        },
        "id": "TCWWR0oY30M2",
        "outputId": "e62ec192-c280-4599-da90-ab8fe4a60d4f"
      },
      "source": [
        "\"www.networksciencelab.com\".isupper() #모든 알파벳 문자가 대문자인지 체크"
      ],
      "execution_count": null,
      "outputs": [
        {
          "output_type": "execute_result",
          "data": {
            "text/plain": [
              "False"
            ]
          },
          "metadata": {
            "tags": []
          },
          "execution_count": 30
        }
      ]
    },
    {
      "cell_type": "code",
      "metadata": {
        "colab": {
          "base_uri": "https://localhost:8080/"
        },
        "id": "14nXfchB4QVj",
        "outputId": "f02578bf-28bc-4bfe-b90a-9ee5bdf06fab"
      },
      "source": [
        "\"www.networksciencelab.com\".isdigit() #0~9 사이 숫자 확인"
      ],
      "execution_count": null,
      "outputs": [
        {
          "output_type": "execute_result",
          "data": {
            "text/plain": [
              "False"
            ]
          },
          "metadata": {
            "tags": []
          },
          "execution_count": 31
        }
      ]
    },
    {
      "cell_type": "code",
      "metadata": {
        "colab": {
          "base_uri": "https://localhost:8080/"
        },
        "id": "TiA9vE5z4dkY",
        "outputId": "d46fd510-964b-4a41-e7b3-f44cdce29dc9"
      },
      "source": [
        "\"www.networksciencelab.com\".isalpha() # dot(.) 제거해야만 True -> 알파벳 (숫자, 특수기호 X) 인지 체크"
      ],
      "execution_count": null,
      "outputs": [
        {
          "output_type": "execute_result",
          "data": {
            "text/plain": [
              "False"
            ]
          },
          "metadata": {
            "tags": []
          },
          "execution_count": 33
        }
      ]
    },
    {
      "cell_type": "markdown",
      "metadata": {
        "id": "N7ZW9Hbs5JgU"
      },
      "source": [
        "대.소문자 변환 함수 -> 모든 문자 대.소문 변환(문자열s의 복사본 변환)"
      ]
    },
    {
      "cell_type": "code",
      "metadata": {
        "colab": {
          "base_uri": "https://localhost:8080/",
          "height": 35
        },
        "id": "Mqw0Q1uD4h4h",
        "outputId": "12db84dd-5289-418f-f3e4-e3b4c78c9426"
      },
      "source": [
        "st = \"www.networksciencelab.com\".upper()\n",
        "st"
      ],
      "execution_count": null,
      "outputs": [
        {
          "output_type": "execute_result",
          "data": {
            "application/vnd.google.colaboratory.intrinsic+json": {
              "type": "string"
            },
            "text/plain": [
              "'WWW.NETWORKSCIENCELAB.COM'"
            ]
          },
          "metadata": {
            "tags": []
          },
          "execution_count": 39
        }
      ]
    },
    {
      "cell_type": "code",
      "metadata": {
        "colab": {
          "base_uri": "https://localhost:8080/",
          "height": 35
        },
        "id": "YfhGZlyX5XEU",
        "outputId": "7515ae0e-14c0-4025-eea9-b7c5f1450f3a"
      },
      "source": [
        "st.lower()"
      ],
      "execution_count": null,
      "outputs": [
        {
          "output_type": "execute_result",
          "data": {
            "application/vnd.google.colaboratory.intrinsic+json": {
              "type": "string"
            },
            "text/plain": [
              "'www.networksciencelab.com'"
            ]
          },
          "metadata": {
            "tags": []
          },
          "execution_count": 40
        }
      ]
    },
    {
      "cell_type": "code",
      "metadata": {
        "colab": {
          "base_uri": "https://localhost:8080/",
          "height": 35
        },
        "id": "QutagDE25Y5q",
        "outputId": "9984364d-cdd0-4b0b-f050-c4e42ad698cb"
      },
      "source": [
        "st"
      ],
      "execution_count": null,
      "outputs": [
        {
          "output_type": "execute_result",
          "data": {
            "application/vnd.google.colaboratory.intrinsic+json": {
              "type": "string"
            },
            "text/plain": [
              "'WWW.NETWORKSCIENCELAB.COM'"
            ]
          },
          "metadata": {
            "tags": []
          },
          "execution_count": 41
        }
      ]
    },
    {
      "cell_type": "markdown",
      "metadata": {
        "id": "l95_IascNuij"
      },
      "source": [
        "2. 올바른 자료구조 선택하기"
      ]
    },
    {
      "cell_type": "markdown",
      "metadata": {
        "id": "tq1_ulVkNyD1"
      },
      "source": [
        "중복된 아이템이 있는 리스트 ->"
      ]
    },
    {
      "cell_type": "code",
      "metadata": {
        "colab": {
          "base_uri": "https://localhost:8080/"
        },
        "id": "VxcpQuyM5ghD",
        "outputId": "143af37d-d968-463d-f72e-cbe39e2b17f5"
      },
      "source": [
        "myList = myList = \"This string\\n\\r has many\\t\\tspaces\\tThis string\\n\\r has many\\t\\tspaces\".split()\n",
        "myList"
      ],
      "execution_count": null,
      "outputs": [
        {
          "output_type": "execute_result",
          "data": {
            "text/plain": [
              "['This',\n",
              " 'string',\n",
              " 'has',\n",
              " 'many',\n",
              " 'spaces',\n",
              " 'This',\n",
              " 'string',\n",
              " 'has',\n",
              " 'many',\n",
              " 'spaces']"
            ]
          },
          "metadata": {
            "tags": []
          },
          "execution_count": 42
        }
      ]
    },
    {
      "cell_type": "markdown",
      "metadata": {
        "id": "Io799VcLOQDZ"
      },
      "source": [
        "리스트 -> 셋 변환 -> 다시 리스트로 변환"
      ]
    },
    {
      "cell_type": "code",
      "metadata": {
        "id": "4N2zR8vJOA3y"
      },
      "source": [
        "#1) 셋 변환 (중복제거)\n",
        "set(myList)\n",
        "\n",
        "# 2) 중복 제거한 데이터를 리스트로 변환\n",
        "myList = list(set(myList))"
      ],
      "execution_count": null,
      "outputs": []
    },
    {
      "cell_type": "code",
      "metadata": {
        "colab": {
          "base_uri": "https://localhost:8080/"
        },
        "id": "9L3YLh2FOb6Y",
        "outputId": "c8aeb83e-e05e-4a33-c96e-c426325b6f78"
      },
      "source": [
        "myList"
      ],
      "execution_count": null,
      "outputs": [
        {
          "output_type": "execute_result",
          "data": {
            "text/plain": [
              "['string', 'many', 'This', 'spaces', 'has']"
            ]
          },
          "metadata": {
            "tags": []
          },
          "execution_count": 45
        }
      ]
    },
    {
      "cell_type": "markdown",
      "metadata": {
        "id": "MAwT2UubPU4R"
      },
      "source": [
        "리스트 vs 셋 회원 명단 조회하기"
      ]
    },
    {
      "cell_type": "code",
      "metadata": {
        "colab": {
          "base_uri": "https://localhost:8080/"
        },
        "id": "yy5xlKU7PErP",
        "outputId": "f8eb802a-1d0e-41c9-90b4-063f13a20c98"
      },
      "source": [
        "bigList = [str(i) for i in range(10000000)]\n",
        "\"abc\" in bigList # bigList 리스트에 abc 데이터 in (포함) 되었는지 확인"
      ],
      "execution_count": null,
      "outputs": [
        {
          "output_type": "execute_result",
          "data": {
            "text/plain": [
              "False"
            ]
          },
          "metadata": {
            "tags": []
          },
          "execution_count": 48
        }
      ]
    },
    {
      "cell_type": "code",
      "metadata": {
        "colab": {
          "base_uri": "https://localhost:8080/"
        },
        "id": "BbJJtAEJPf8Y",
        "outputId": "82dd77d4-db14-4a28-91b4-76eaeac40af2"
      },
      "source": [
        "bigList = set(bigList) # 셋으로 변환 하면 중복 제거 되기 때문에 대아터 조회 시 빠름\n",
        "\"abc\" in bigList # 0초 걸림"
      ],
      "execution_count": null,
      "outputs": [
        {
          "output_type": "execute_result",
          "data": {
            "text/plain": [
              "False"
            ]
          },
          "metadata": {
            "tags": []
          },
          "execution_count": 50
        }
      ]
    },
    {
      "cell_type": "markdown",
      "metadata": {
        "id": "VgApjvaYRbeB"
      },
      "source": [
        "딕셔너리 (키-값으로 검색해야할 때 매우 유용)"
      ]
    },
    {
      "cell_type": "markdown",
      "metadata": {
        "id": "VDc8HBtuSRha"
      },
      "source": [
        "리스트 딕셔너리 만들기 - enumerate 사용"
      ]
    },
    {
      "cell_type": "code",
      "metadata": {
        "colab": {
          "base_uri": "https://localhost:8080/"
        },
        "id": "hI65cFmkQFiG",
        "outputId": "e5ecc7eb-eda2-421a-9891-93436968379a"
      },
      "source": [
        "# 1) 리스트 준비\n",
        "seq = [\"alpha\",\"bravo\",\"charlie\",\"delta\"]\n",
        "\n",
        "# 2) 딕셔너리 만들기 -> 인덱스 정보를 key, Data를 value\n",
        "dict(enumerate(seq))"
      ],
      "execution_count": null,
      "outputs": [
        {
          "output_type": "execute_result",
          "data": {
            "text/plain": [
              "{0: 'alpha', 1: 'bravo', 2: 'charlie', 3: 'delta'}"
            ]
          },
          "metadata": {
            "tags": []
          },
          "execution_count": 52
        }
      ]
    },
    {
      "cell_type": "markdown",
      "metadata": {
        "id": "SGLNhXDtTjX_"
      },
      "source": [
        "리스트 딕셔너리 만들기 - 키순서열과 값 순서열에 클래스 생성자인zip(key,value) 사용"
      ]
    },
    {
      "cell_type": "code",
      "metadata": {
        "colab": {
          "base_uri": "https://localhost:8080/"
        },
        "id": "xq-qKx_FSgIJ",
        "outputId": "ad485adb-fc13-416c-dc8b-16816482020f"
      },
      "source": [
        "kseq = \"abcd\" # 문자열 또한, 순서열이다.\n",
        "vseq = [\"alpha\",\"bravo\",\"charlie\",\"delta\"]\n",
        "dict(zip(kseq, vseq))"
      ],
      "execution_count": null,
      "outputs": [
        {
          "output_type": "execute_result",
          "data": {
            "text/plain": [
              "{'a': 'alpha', 'b': 'bravo', 'c': 'charlie', 'd': 'delta'}"
            ]
          },
          "metadata": {
            "tags": []
          },
          "execution_count": 53
        }
      ]
    },
    {
      "cell_type": "code",
      "metadata": {
        "colab": {
          "base_uri": "https://localhost:8080/"
        },
        "id": "I40EVPSeT7Tu",
        "outputId": "f3559c90-4d16-4f2a-86dc-cad756abc4d1"
      },
      "source": [
        "kseq = \"aaaa\"\n",
        "vseq = [\"alpha\",\"bravo\",\"charlie\",\"delta\"]\n",
        "\n",
        "dict(zip(kseq, vseq))"
      ],
      "execution_count": null,
      "outputs": [
        {
          "output_type": "execute_result",
          "data": {
            "text/plain": [
              "{'a': 'delta'}"
            ]
          },
          "metadata": {
            "tags": []
          },
          "execution_count": 54
        }
      ]
    },
    {
      "cell_type": "markdown",
      "metadata": {
        "id": "Grx3rxXcaMyA"
      },
      "source": [
        "카운터(counter)는 딕셔너리 스타일의 컬렛션에서 다른 컬렛션 안의 아이템 개수 셀 때 사용"
      ]
    },
    {
      "cell_type": "code",
      "metadata": {
        "id": "jJCR-YbaURjl",
        "colab": {
          "base_uri": "https://localhost:8080/"
        },
        "outputId": "25986afa-ec87-4d85-9d96-28d896e187dd"
      },
      "source": [
        "from collections import Counter\n",
        "\n",
        "phrase = \"a man a plan a canal pananma\"\n",
        "cntr = Counter(phrase.split())\n",
        "\n",
        "cntr.most_common(1) #가장 빈번하게 등장한 n개의 아이템과 빈도 추출"
      ],
      "execution_count": null,
      "outputs": [
        {
          "output_type": "execute_result",
          "data": {
            "text/plain": [
              "[('a', 3)]"
            ]
          },
          "metadata": {
            "tags": []
          },
          "execution_count": 38
        }
      ]
    },
    {
      "cell_type": "code",
      "metadata": {
        "colab": {
          "base_uri": "https://localhost:8080/"
        },
        "id": "6gpmwEQFbCze",
        "outputId": "91753591-55dc-437f-a767-f08758a135c1"
      },
      "source": [
        "cntr"
      ],
      "execution_count": null,
      "outputs": [
        {
          "output_type": "execute_result",
          "data": {
            "text/plain": [
              "Counter({'a': 3, 'canal': 1, 'man': 1, 'pananma': 1, 'plan': 1})"
            ]
          },
          "metadata": {
            "tags": []
          },
          "execution_count": 31
        }
      ]
    },
    {
      "cell_type": "markdown",
      "metadata": {
        "id": "MMyT20J4cYLD"
      },
      "source": [
        "출력한 리스트를 딕셔너리로 변환하면 가독성 좋아짐"
      ]
    },
    {
      "cell_type": "code",
      "metadata": {
        "colab": {
          "base_uri": "https://localhost:8080/"
        },
        "id": "s1a_tjeXcczc",
        "outputId": "a80eb792-10fc-4bdb-f5e5-b8fc6a544ce8"
      },
      "source": [
        "cntrDict = dict(cntr.most_common())  #key : 추출된 아이템, value : 아이템 빈도\n",
        "cntrDict"
      ],
      "execution_count": null,
      "outputs": [
        {
          "output_type": "execute_result",
          "data": {
            "text/plain": [
              "{'a': 3, 'canal': 1, 'man': 1, 'pananma': 1, 'plan': 1}"
            ]
          },
          "metadata": {
            "tags": []
          },
          "execution_count": 41
        }
      ]
    },
    {
      "cell_type": "code",
      "metadata": {
        "colab": {
          "base_uri": "https://localhost:8080/"
        },
        "id": "IxmwNPFjctrA",
        "outputId": "eac3a87c-610f-47e2-eff4-f51d07147da2"
      },
      "source": [
        "cntrDict['plan']"
      ],
      "execution_count": null,
      "outputs": [
        {
          "output_type": "execute_result",
          "data": {
            "text/plain": [
              "1"
            ]
          },
          "metadata": {
            "tags": []
          },
          "execution_count": 42
        }
      ]
    },
    {
      "cell_type": "markdown",
      "metadata": {
        "id": "_APYeSaJeAWv"
      },
      "source": [
        "웹에 접근하기"
      ]
    },
    {
      "cell_type": "code",
      "metadata": {
        "colab": {
          "base_uri": "https://localhost:8080/"
        },
        "id": "leHh52U8eDJl",
        "outputId": "96cf6386-51c6-48eb-8daa-32470fa1f0e6"
      },
      "source": [
        "import urllib.request\n",
        "\n",
        "try:\n",
        "  with urllib.urlopen(\"http://networksciencelab.com\") as doc:\n",
        "    html= dco.read()\n",
        "    print(html)\n",
        "except:\n",
        "  print('could not open')"
      ],
      "execution_count": null,
      "outputs": [
        {
          "output_type": "stream",
          "text": [
            "could not open\n"
          ],
          "name": "stdout"
        }
      ]
    },
    {
      "cell_type": "code",
      "metadata": {
        "colab": {
          "base_uri": "https://localhost:8080/",
          "height": 239
        },
        "id": "oANvQNrFgBMN",
        "outputId": "0a400a1e-97e7-4368-9890-a703fc7ece8e"
      },
      "source": [
        "import urllib.request\n",
        "\n",
        "\n",
        "with urllib.urlopen(\"http://networksciencelab.com\") as doc:\n",
        "  html= dco.read()\n",
        "  print(html)\n"
      ],
      "execution_count": null,
      "outputs": [
        {
          "output_type": "error",
          "ename": "AttributeError",
          "evalue": "ignored",
          "traceback": [
            "\u001b[0;31m---------------------------------------------------------------------------\u001b[0m",
            "\u001b[0;31mAttributeError\u001b[0m                            Traceback (most recent call last)",
            "\u001b[0;32m<ipython-input-48-c82444667cc2>\u001b[0m in \u001b[0;36m<module>\u001b[0;34m()\u001b[0m\n\u001b[1;32m      2\u001b[0m \u001b[0;34m\u001b[0m\u001b[0m\n\u001b[1;32m      3\u001b[0m \u001b[0;34m\u001b[0m\u001b[0m\n\u001b[0;32m----> 4\u001b[0;31m \u001b[0;32mwith\u001b[0m \u001b[0murllib\u001b[0m\u001b[0;34m.\u001b[0m\u001b[0murlopen\u001b[0m\u001b[0;34m(\u001b[0m\u001b[0;34m\"http://networksciencelab.com\"\u001b[0m\u001b[0;34m)\u001b[0m \u001b[0;32mas\u001b[0m \u001b[0mdoc\u001b[0m\u001b[0;34m:\u001b[0m\u001b[0;34m\u001b[0m\u001b[0;34m\u001b[0m\u001b[0m\n\u001b[0m\u001b[1;32m      5\u001b[0m   \u001b[0mhtml\u001b[0m\u001b[0;34m=\u001b[0m \u001b[0mdco\u001b[0m\u001b[0;34m.\u001b[0m\u001b[0mread\u001b[0m\u001b[0;34m(\u001b[0m\u001b[0;34m)\u001b[0m\u001b[0;34m\u001b[0m\u001b[0;34m\u001b[0m\u001b[0m\n\u001b[1;32m      6\u001b[0m   \u001b[0mprint\u001b[0m\u001b[0;34m(\u001b[0m\u001b[0mhtml\u001b[0m\u001b[0;34m)\u001b[0m\u001b[0;34m\u001b[0m\u001b[0;34m\u001b[0m\u001b[0m\n",
            "\u001b[0;31mAttributeError\u001b[0m: module 'urllib' has no attribute 'urlopen'"
          ]
        }
      ]
    },
    {
      "cell_type": "code",
      "metadata": {
        "colab": {
          "base_uri": "https://localhost:8080/"
        },
        "id": "-O9qiJiygzC8",
        "outputId": "47cfb65e-ad78-4a5b-e0d1-71149c7ef448"
      },
      "source": [
        "import urllib.parse\n",
        "\n",
        "URL = \"http://networksciencelab.com/index.html;param?foo=bar#content\" # url 파싱하여 6개의 아이템으로 구성된 튜플로 분리 스키마 네트워크 주소, 파일 시스템 경로, 파라미터, 쿼리, 플래그먼트\n",
        "\n",
        "urllib.parse.urlparse(URL)"
      ],
      "execution_count": null,
      "outputs": [
        {
          "output_type": "execute_result",
          "data": {
            "text/plain": [
              "ParseResult(scheme='http', netloc='networksciencelab.com', path='/index.html', params='param', query='foo=bar', fragment='content')"
            ]
          },
          "metadata": {
            "tags": []
          },
          "execution_count": 50
        }
      ]
    },
    {
      "cell_type": "code",
      "metadata": {
        "colab": {
          "base_uri": "https://localhost:8080/"
        },
        "id": "ESsMBtTuodlp",
        "outputId": "131b661e-695c-4354-c06d-5446942112b8"
      },
      "source": [
        "a = 'abcdef\\n'\n",
        "print(a)\n",
        "\n",
        "b = r'abcdef\\n'  #원천 문자열로(raw string)로 인식\n",
        "print(b)"
      ],
      "execution_count": null,
      "outputs": [
        {
          "output_type": "stream",
          "text": [
            "abcdef\n",
            "\n",
            "abcdef\\n\n"
          ],
          "name": "stdout"
        }
      ]
    },
    {
      "cell_type": "code",
      "metadata": {
        "colab": {
          "base_uri": "https://localhost:8080/"
        },
        "id": "BX2mkpSJo2ig",
        "outputId": "1bf424d3-8b18-4e81-817c-45c52e8ebe5b"
      },
      "source": [
        "import re\n",
        "\n",
        "re.compile(r'(\\d+)/(\\d+)/(\\d+)')  #raw string -> 0/0/0 1/1/1 3/3/3"
      ],
      "execution_count": null,
      "outputs": [
        {
          "output_type": "execute_result",
          "data": {
            "text/plain": [
              "re.compile(r'(\\d+)/(\\d+)/(\\d+)', re.UNICODE)"
            ]
          },
          "metadata": {
            "tags": []
          },
          "execution_count": 57
        }
      ]
    },
    {
      "cell_type": "code",
      "metadata": {
        "colab": {
          "base_uri": "https://localhost:8080/"
        },
        "id": "E31ZNkHJqI-Y",
        "outputId": "3ce4b191-902c-4ddb-ea63-1b5151dcfef5"
      },
      "source": [
        "re.compile(r'(\\\\d+)/(\\\\d+)/(\\\\d+)')  #raw string 사용하지 않으면, 슬레시를 두번 사용해야 하는 불편함 -> 그래서 보통 r문자를 불러줌"
      ],
      "execution_count": null,
      "outputs": [
        {
          "output_type": "execute_result",
          "data": {
            "text/plain": [
              "re.compile(r'(\\\\d+)/(\\\\d+)/(\\\\d+)', re.UNICODE)"
            ]
          },
          "metadata": {
            "tags": []
          },
          "execution_count": 59
        }
      ]
    },
    {
      "cell_type": "markdown",
      "metadata": {
        "id": "KbFM9Gl7qZgK"
      },
      "source": [
        "정규 표현식으로 패턴 매칭하기\n",
        "\n",
        "re.split() 함수 단어 분석을 위한 기본적인 단어 토크나이저로 사용할 수 있음"
      ]
    },
    {
      "cell_type": "code",
      "metadata": {
        "colab": {
          "base_uri": "https://localhost:8080/"
        },
        "id": "RqQalLvAqXSM",
        "outputId": "b827dc8d-2076-4fac-e4a5-74bf089abd7d"
      },
      "source": [
        "import re\n",
        "\n",
        "re.split(r\"\\W\",\"Hello, world!\")  # r\"\\\\\" ->숫자, 알파벳 제외 한 개체 1개 -> 잘라라"
      ],
      "execution_count": null,
      "outputs": [
        {
          "output_type": "execute_result",
          "data": {
            "text/plain": [
              "['Hello', '', 'world', '']"
            ]
          },
          "metadata": {
            "tags": []
          },
          "execution_count": 65
        }
      ]
    },
    {
      "cell_type": "code",
      "metadata": {
        "colab": {
          "base_uri": "https://localhost:8080/"
        },
        "id": "NE9RlhQ4qjBF",
        "outputId": "fb34f67a-d0b0-4733-8166-c388d5923014"
      },
      "source": [
        "#인근에 위치한 비문자(non-letter) (,)를 합친다\n",
        "re.split(r\"\\W+\",\"Hello, world!\")  #r\"\\W+\" 알파벳이나 숫자가 아닌 개체 1개 이상 합친다(+)\""
      ],
      "execution_count": null,
      "outputs": [
        {
          "output_type": "execute_result",
          "data": {
            "text/plain": [
              "['Hello', 'world', '']"
            ]
          },
          "metadata": {
            "tags": []
          },
          "execution_count": 67
        }
      ]
    },
    {
      "cell_type": "code",
      "metadata": {
        "colab": {
          "base_uri": "https://localhost:8080/"
        },
        "id": "kdvuDK0ctUgU",
        "outputId": "319c5102-7c64-4d51-ee39-ece2e051067e"
      },
      "source": [
        "mo = re.match(r\"\\d+\", \"06780 Starts with a number\")\n",
        "mo"
      ],
      "execution_count": null,
      "outputs": [
        {
          "output_type": "execute_result",
          "data": {
            "text/plain": [
              "<re.Match object; span=(0, 5), match='06780'>"
            ]
          },
          "metadata": {
            "tags": []
          },
          "execution_count": 71
        }
      ]
    },
    {
      "cell_type": "code",
      "metadata": {
        "colab": {
          "base_uri": "https://localhost:8080/",
          "height": 35
        },
        "id": "VZINSnBGt4zB",
        "outputId": "1ae015db-1a26-4301-9731-f6dd62d09ca4"
      },
      "source": [
        "mo.group()"
      ],
      "execution_count": null,
      "outputs": [
        {
          "output_type": "execute_result",
          "data": {
            "application/vnd.google.colaboratory.intrinsic+json": {
              "type": "string"
            },
            "text/plain": [
              "'06780'"
            ]
          },
          "metadata": {
            "tags": []
          },
          "execution_count": 73
        }
      ]
    },
    {
      "cell_type": "code",
      "metadata": {
        "colab": {
          "base_uri": "https://localhost:8080/"
        },
        "id": "E6mW8kC9uBO7",
        "outputId": "5cd51100-b2d2-46a5-efc8-8fb54d0e36a2"
      },
      "source": [
        "print(re.match(r\"\\d+\", \"Does not Starts with a number\"))"
      ],
      "execution_count": null,
      "outputs": [
        {
          "output_type": "stream",
          "text": [
            "None\n"
          ],
          "name": "stdout"
        }
      ]
    },
    {
      "cell_type": "code",
      "metadata": {
        "colab": {
          "base_uri": "https://localhost:8080/",
          "height": 35
        },
        "id": "asMmo1_xulMa",
        "outputId": "a7b45629-43cc-4f78-b784-87c9d4e220b6"
      },
      "source": [
        "# search 문자열 일부분이 정규식과 매칭되는지 확인(매칭되는게 앞부분에 없다면 이 함수 사용)\n",
        "# [a-z]: 소문자들만 일치\n",
        "re.search(r\"[a-z]+\", \"0010010 Has at least one 010 letter 0010010\").group()"
      ],
      "execution_count": null,
      "outputs": [
        {
          "output_type": "execute_result",
          "data": {
            "application/vnd.google.colaboratory.intrinsic+json": {
              "type": "string"
            },
            "text/plain": [
              "'as'"
            ]
          },
          "metadata": {
            "tags": []
          },
          "execution_count": 78
        }
      ]
    },
    {
      "cell_type": "code",
      "metadata": {
        "colab": {
          "base_uri": "https://localhost:8080/",
          "height": 35
        },
        "id": "37UCf0C3vd2R",
        "outputId": "86875ff4-1631-4616-fcb3-f72a74f0dd66"
      },
      "source": [
        "re.search(r\"[a-z]+\", \"0010010 Has at least one 010 letter 0010010\",re.I).group()   #re.I: 대문자 구분하지 않음\n"
      ],
      "execution_count": null,
      "outputs": [
        {
          "output_type": "execute_result",
          "data": {
            "application/vnd.google.colaboratory.intrinsic+json": {
              "type": "string"
            },
            "text/plain": [
              "'Has'"
            ]
          },
          "metadata": {
            "tags": []
          },
          "execution_count": 83
        }
      ]
    },
    {
      "cell_type": "code",
      "metadata": {
        "colab": {
          "base_uri": "https://localhost:8080/",
          "height": 35
        },
        "id": "NR57d6rxwEsh",
        "outputId": "d833cc1b-d499-4bb1-ea01-15a5ba9519d1"
      },
      "source": [
        "re.search(r\"[A-Z]+\", \"0010010 has at least ONE 010 letter 0010010\").group()  #[A-Z] : 대문자들만 일치"
      ],
      "execution_count": null,
      "outputs": [
        {
          "output_type": "execute_result",
          "data": {
            "application/vnd.google.colaboratory.intrinsic+json": {
              "type": "string"
            },
            "text/plain": [
              "'ONE'"
            ]
          },
          "metadata": {
            "tags": []
          },
          "execution_count": 87
        }
      ]
    },
    {
      "cell_type": "code",
      "metadata": {
        "colab": {
          "base_uri": "https://localhost:8080/"
        },
        "id": "R7xf5AcWw08x",
        "outputId": "2b2ae5ef-d3f7-46ba-978d-e60dcc91e15f"
      },
      "source": [
        "# findall: 정규식에 부합하는 모든 문자열 찾기(대소문자 무시) -> 모든 소문자 들어 있는 토큰 찾기\n",
        "re.findall(r\"[a-z]+\", \"0010010 has at least ONE 010 letter 0010010\", re.I)"
      ],
      "execution_count": null,
      "outputs": [
        {
          "output_type": "execute_result",
          "data": {
            "text/plain": [
              "['has', 'at', 'least', 'ONE', 'letter']"
            ]
          },
          "metadata": {
            "tags": []
          },
          "execution_count": 91
        }
      ]
    },
    {
      "cell_type": "code",
      "metadata": {
        "colab": {
          "base_uri": "https://localhost:8080/"
        },
        "id": "VCBS_dwDxIcW",
        "outputId": "e0772220-b889-4cf3-f216-92b15350e440"
      },
      "source": [
        "#findall : 정규식에 부합하는 모든 문자열 찾기 -> 모든 소문자 들어 있는 토큰 찾기\n",
        "re.findall(r\"[a-z]+\", \"0010010 has at least ONE 010 letter 0010010\")"
      ],
      "execution_count": null,
      "outputs": [
        {
          "output_type": "execute_result",
          "data": {
            "text/plain": [
              "['has', 'at', 'least', 'letter']"
            ]
          },
          "metadata": {
            "tags": []
          },
          "execution_count": 93
        }
      ]
    },
    {
      "cell_type": "code",
      "metadata": {
        "colab": {
          "base_uri": "https://localhost:8080/"
        },
        "id": "NQEgZ7Ulxhs1",
        "outputId": "ddeee9e5-168a-449a-bb78-dcdd766f80eb"
      },
      "source": [
        "#findall : 정규식에 부합하는 모든 문자열 찾기 -> 모든 소문자 들어 있는 토큰 찾기\n",
        "re.findall(r\"\\d+\", \"0010010 has at least one 010 letter 0010010\")"
      ],
      "execution_count": null,
      "outputs": [
        {
          "output_type": "execute_result",
          "data": {
            "text/plain": [
              "['0010010', '010', '0010010']"
            ]
          },
          "metadata": {
            "tags": []
          },
          "execution_count": 98
        }
      ]
    },
    {
      "cell_type": "code",
      "metadata": {
        "colab": {
          "base_uri": "https://localhost:8080/"
        },
        "id": "AUr1C1vOxqpj",
        "outputId": "0d28cac6-a9b7-4aba-a43e-a465b44eab26"
      },
      "source": [
        "#findall : 정규식에 부합하는 모든 문자열 찾기 -> 모든 소문자 들어 있는 토큰 찾기\n",
        "re.findall(r\"\\D+\", \"0010010 has at least one 010 letter 0010010\")"
      ],
      "execution_count": null,
      "outputs": [
        {
          "output_type": "execute_result",
          "data": {
            "text/plain": [
              "[' has at least one ', ' letter ']"
            ]
          },
          "metadata": {
            "tags": []
          },
          "execution_count": 99
        }
      ]
    },
    {
      "cell_type": "code",
      "metadata": {
        "colab": {
          "base_uri": "https://localhost:8080/"
        },
        "id": "r2Q2hFxtxunz",
        "outputId": "f25291cd-091a-478c-fbc2-7231444e8134"
      },
      "source": [
        "#findall : 정규식에 부합하는 모든 문자열 찾기 -> 모든 소문자 들어 있는 토큰 찾기\n",
        "re.findall(r\"[^a-z]+\", \"0010010 has at least one 010 letter 0010010\")"
      ],
      "execution_count": null,
      "outputs": [
        {
          "output_type": "execute_result",
          "data": {
            "text/plain": [
              "['0010010 ', ' ', ' ', ' ', ' 010 ', ' 0010010']"
            ]
          },
          "metadata": {
            "tags": []
          },
          "execution_count": 100
        }
      ]
    },
    {
      "cell_type": "code",
      "metadata": {
        "colab": {
          "base_uri": "https://localhost:8080/",
          "height": 35
        },
        "id": "jCJKWz4Qx9T5",
        "outputId": "22136d82-8645-453e-cfc0-3d6e7e45a862"
      },
      "source": [
        "#sub: string으로 매칭되는 부분 문자열을 repl로 치환\n",
        "re.sub(r\"[a-z]+\",'[...]',\"0010010 Has at least one 010 letter 0010010\",flags=re.I)"
      ],
      "execution_count": null,
      "outputs": [
        {
          "output_type": "execute_result",
          "data": {
            "application/vnd.google.colaboratory.intrinsic+json": {
              "type": "string"
            },
            "text/plain": [
              "'0010010 [...] [...] [...] [...] 010 [...] 0010010'"
            ]
          },
          "metadata": {
            "tags": []
          },
          "execution_count": 104
        }
      ]
    },
    {
      "cell_type": "code",
      "metadata": {
        "colab": {
          "base_uri": "https://localhost:8080/",
          "height": 35
        },
        "id": "re7m0bOfys7H",
        "outputId": "d53d4940-568f-42b9-9dbf-14b8a324154d"
      },
      "source": [
        "#010-abcd-0100 -> abcd 값을 **** 으로 치환\n",
        "re.sub(r\"[a-z]+\",\"****\",\"010-abcd-0100\")"
      ],
      "execution_count": null,
      "outputs": [
        {
          "output_type": "execute_result",
          "data": {
            "application/vnd.google.colaboratory.intrinsic+json": {
              "type": "string"
            },
            "text/plain": [
              "'010-****-0100'"
            ]
          },
          "metadata": {
            "tags": []
          },
          "execution_count": 107
        }
      ]
    },
    {
      "cell_type": "code",
      "metadata": {
        "id": "D__alX7C5-qW",
        "colab": {
          "base_uri": "https://localhost:8080/",
          "height": 35
        },
        "outputId": "ced14a2a-bcde-4867-a668-a16fa0937486"
      },
      "source": [
        "#010-abcd-0100 -> abcd 값을 **** 으로 치환\n",
        "re.sub(r\"\\W+\",\"****\",\"010-abcd-0100\")"
      ],
      "execution_count": null,
      "outputs": [
        {
          "output_type": "execute_result",
          "data": {
            "application/vnd.google.colaboratory.intrinsic+json": {
              "type": "string"
            },
            "text/plain": [
              "'010****abcd****0100'"
            ]
          },
          "metadata": {
            "tags": []
          },
          "execution_count": 108
        }
      ]
    }
  ]
}
