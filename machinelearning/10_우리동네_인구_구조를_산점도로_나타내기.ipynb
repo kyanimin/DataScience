{
  "nbformat": 4,
  "nbformat_minor": 0,
  "metadata": {
    "colab": {
      "name": "unit10-우리동네 인구 구조를 산점도로 나타내기.ipynb",
      "provenance": []
    },
    "kernelspec": {
      "name": "python3",
      "display_name": "Python 3"
    },
    "language_info": {
      "name": "python"
    }
  },
  "cells": []
}
